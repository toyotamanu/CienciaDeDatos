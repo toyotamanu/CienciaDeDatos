{
 "cells": [
  {
   "cell_type": "markdown",
   "id": "827500d2",
   "metadata": {},
   "source": [
    "# Proyecto Final - Herramientas y Técnicas de Ciencia de Datos"
   ]
  },
  {
   "cell_type": "markdown",
   "id": "b86865a0",
   "metadata": {},
   "source": [
    "Este cuaderno es parte del proyecto final del curso de Ciencia de Datos. Aquí se presentan conceptos clave como lenguajes, bibliotecas, herramientas y operaciones básicas de programación en ciencia de datos."
   ]
  },
  {
   "cell_type": "markdown",
   "id": "5399d653",
   "metadata": {},
   "source": [
    "## Lenguajes de Ciencia de Datos\n",
    "Estos son algunos de los lenguajes más utilizados en ciencia de datos:\n",
    "\n",
    "1. Python  \n",
    "2. R  \n",
    "3. SQL  \n",
    "4. Scala  \n",
    "5. Julia"
   ]
  },
  {
   "cell_type": "markdown",
   "id": "eecf6670",
   "metadata": {},
   "source": [
    "## Bibliotecas populares en Ciencia de Datos\n",
    "Lista de bibliotecas comunes utilizadas en ciencia de datos:\n",
    "\n",
    "1. Pandas  \n",
    "2. NumPy  \n",
    "3. Matplotlib  \n",
    "4. Scikit-learn  \n",
    "5. TensorFlow  \n",
    "6. Keras"
   ]
  },
  {
   "cell_type": "markdown",
   "id": "00c91270",
   "metadata": {},
   "source": [
    "## Herramientas de Ciencia de Datos\n",
    "\n",
    "| Herramienta     | Descripción                              |\n",
    "|------------------|------------------------------------------|\n",
    "| JupyterLab       | Entorno interactivo para notebooks       |\n",
    "| RStudio          | IDE para programación en R               |\n",
    "| Apache Spark     | Marco de procesamiento distribuido       |\n",
    "| VS Code          | Editor de código ligero y versátil       |\n",
    "| Tableau          | Herramienta de visualización de datos    |"
   ]
  },
  {
   "cell_type": "markdown",
   "id": "ec16b9a0",
   "metadata": {},
   "source": [
    "## Ejemplos de Expresiones Aritméticas\n",
    "A continuación se muestran algunos ejemplos de operaciones aritméticas básicas utilizando Python."
   ]
  },
  {
   "cell_type": "code",
   "execution_count": 9,
   "id": "e8c2e79d",
   "metadata": {},
   "outputs": [
    {
     "data": {
      "text/plain": [
       "29"
      ]
     },
     "execution_count": 9,
     "metadata": {},
     "output_type": "execute_result"
    }
   ],
   "source": [
    "# Multiply and add two numbers\n",
    "result = (6 * 4) + 5\n",
    "result"
   ]
  },
  {
   "cell_type": "code",
   "execution_count": 10,
   "id": "58111e2e",
   "metadata": {},
   "outputs": [
    {
     "data": {
      "text/plain": [
       "3.0"
      ]
     },
     "execution_count": 10,
     "metadata": {},
     "output_type": "execute_result"
    }
   ],
   "source": [
    "# Convert minutes to hours\n",
    "minutes = 180\n",
    "hours = minutes / 60\n",
    "hours"
   ]
  },
  {
   "cell_type": "markdown",
   "id": "b5e87bd2",
   "metadata": {},
   "source": [
    "## Objetivos del Proyecto\n",
    "- Demostrar conocimientos sobre herramientas y bibliotecas de ciencia de datos  \n",
    "- Usar JupyterLite para crear y compartir un cuaderno  \n",
    "- Realizar cálculos aritméticos simples en Python  \n",
    "- Presentar la información usando celdas Markdown y de código"
   ]
  },
  {
   "cell_type": "markdown",
   "id": "7f4f2301",
   "metadata": {},
   "source": [
    "## Autor\n",
    "Victor Martinez"
   ]
  },
  {
   "cell_type": "markdown",
   "id": "d0c7aab9",
   "metadata": {},
   "source": [
    "URL del repositorio de GitHub del cuaderno:\n",
    "https://github.com/toyotamanu/CienciaDeDatos.git"
   ]
  }
 ],
 "metadata": {
  "kernelspec": {
   "display_name": "Python 3",
   "language": "python",
   "name": "python3"
  },
  "language_info": {
   "codemirror_mode": {
    "name": "ipython",
    "version": 3
   },
   "file_extension": ".py",
   "mimetype": "text/x-python",
   "name": "python",
   "nbconvert_exporter": "python",
   "pygments_lexer": "ipython3",
   "version": "3.13.3"
  }
 },
 "nbformat": 4,
 "nbformat_minor": 5
}
